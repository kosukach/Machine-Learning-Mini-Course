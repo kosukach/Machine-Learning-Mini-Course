{
 "cells": [
  {
   "cell_type": "code",
   "execution_count": 1,
   "metadata": {},
   "outputs": [],
   "source": [
    "import matplotlib.pyplot as plt\n",
    "from sklearn.decomposition import PCA, LatentDirichletAllocation, FastICA\n",
    "from sklearn.discriminant_analysis import LinearDiscriminantAnalysis\n",
    "import pandas as pd\n",
    "import numpy as np"
   ]
  },
  {
   "cell_type": "code",
   "execution_count": 2,
   "metadata": {},
   "outputs": [],
   "source": [
    "def pca_graph(X, y):\n",
    "    \n",
    "    graph_func(X, y, model=PCA, model_name=\"PCA\", x_axis=\"Principal Component 1\", y_axis=\"Principal Component 2\")"
   ]
  },
  {
   "cell_type": "code",
   "execution_count": 3,
   "metadata": {},
   "outputs": [],
   "source": [
    "def lda_graph(X, y):\n",
    "    \n",
    "    graph_func(X, y, model=LinearDiscriminantAnalysis, model_name=\"LDA\")"
   ]
  },
  {
   "cell_type": "code",
   "execution_count": 4,
   "metadata": {},
   "outputs": [],
   "source": [
    "def ldia_graph(X, y):\n",
    "    \n",
    "    graph_func(X, y, model=LatentDirichletAllocation)"
   ]
  },
  {
   "cell_type": "code",
   "execution_count": 5,
   "metadata": {},
   "outputs": [],
   "source": [
    "def ica_graph(X, y):\n",
    "    graph_func(X, y, model=FastICA)"
   ]
  },
  {
   "cell_type": "code",
   "execution_count": 6,
   "metadata": {},
   "outputs": [],
   "source": [
    "def graph_func(X, y, model, model_name=\"Visualisation\", x_axis=\"Axis 1\", y_axis=\"Axis 2\"):\n",
    "    if not isinstance(X, pd.DataFrame):\n",
    "        raise TypeError(\"Only DataFrame obj is accepted for X\")\n",
    "    if not isinstance(y, pd.Series):\n",
    "        raise TypeError(\"Only Series obj is accepted for y\")\n",
    "    if not (X.index == y.index).all():\n",
    "        raise IndexError(\"Indices of X and y must match. NaN values are to be expected otherwise\")\n",
    "    model =  model(n_components=2)\n",
    "    X_r = model.fit(X, y).transform(X)\n",
    "    X_rDf = pd.DataFrame(data = X_r, columns = ['axis 1', 'axis 2'])\n",
    "    data = pd.concat([X_rDf, y], axis=1)\n",
    "    rat1, rat2 = model.explained_variance_ratio_\n",
    "    fig = plt.figure(figsize = (8,8))\n",
    "    ax = fig.add_subplot(1,1,1) \n",
    "    ax.set_xlabel('%s (%.2f%%)'%(x_axis, rat1*100) , fontsize = 15)\n",
    "    ax.set_ylabel('%s (%.2f%%)'%(y_axis, rat2*100) , fontsize = 15)\n",
    "    ax.set_title('2 Component %s'%model_name, fontsize = 20)\n",
    "\n",
    "    targets = y.unique()\n",
    "    targets.sort(kind=\"quicksort\")\n",
    "    colors = ['r', 'g', 'b', \"y\", \"b\"][:len(targets)]\n",
    "    \n",
    "    for target, color in zip(targets,colors):\n",
    "        ax.scatter(data.loc[data[y.name or 0] == target, 'axis 1']\n",
    "                   , data.loc[data[y.name or 0] == target, 'axis 2']\n",
    "                   , c = color\n",
    "                   , s = 50)\n",
    "    ax.legend(targets)\n",
    "    ax.grid()"
   ]
  }
 ],
 "metadata": {
  "kernelspec": {
   "display_name": "Python 3",
   "language": "python",
   "name": "python3"
  },
  "language_info": {
   "codemirror_mode": {
    "name": "ipython",
    "version": 3
   },
   "file_extension": ".py",
   "mimetype": "text/x-python",
   "name": "python",
   "nbconvert_exporter": "python",
   "pygments_lexer": "ipython3",
   "version": "3.8.2"
  }
 },
 "nbformat": 4,
 "nbformat_minor": 4
}
